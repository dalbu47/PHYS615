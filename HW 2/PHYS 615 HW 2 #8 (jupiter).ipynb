{
 "cells": [
  {
   "cell_type": "code",
   "execution_count": 49,
   "id": "initial_id",
   "metadata": {
    "collapsed": true,
    "ExecuteTime": {
     "end_time": "2024-02-14T04:15:31.296196700Z",
     "start_time": "2024-02-14T04:15:30.802999600Z"
    }
   },
   "outputs": [
    {
     "name": "stdout",
     "output_type": "stream",
     "text": [
      "For the angle 45 degrees, the Range in a vacuum Rvac is 1.000m, and 0.491m is the Range R in a linear medium.\n",
      "For the angles 0.4, 0.5, 0.6, 0.7 and 0.8 radians, the ranges in a linear medium are 0.463, 0.499, 0.514, 0.508, and 0.487 meters respectively.\n",
      "After some trial and error, I found that the maximum range is 0.514 meters which happens at 0.622 radians.\n",
      "Compared to the value in a vacuum for 45 degrees calculated earlier, it is about half as large.\n"
     ]
    }
   ],
   "source": [
    "import numpy as np\n",
    "\n",
    "g = 1\n",
    "theta = (np.pi) / 4\n",
    "thetalist = [0.4, 0.5, 0.6, 0.7, 0.8]\n",
    "thetalist2 = [0.621, 0.622, 0.623]\n",
    "Vter = 1\n",
    "Vo = 1\n",
    "Vxo = 1 / (np.sqrt(2))\n",
    "Vyo = 1 / (np.sqrt(2))\n",
    "\n",
    "Rvac = (2 * Vxo * Vyo) / g\n",
    "Rlist = []\n",
    "dlist = []\n",
    "R = np.linspace(0, 0.65, 10000)\n",
    "\n",
    "\n",
    "for i in range(len(R)):\n",
    "    y = ((Vyo + Vter) / Vxo) * R[i] + (Vter ** 2) * np.log(1 - (R[i] / (Vxo * Vter)))\n",
    "    Rlist.append(y)\n",
    "\n",
    "d = R[np.where(np.diff(np.sign(Rlist)))[0][1]]\n",
    "print(f\"For the angle 45 degrees, the Range in a vacuum Rvac is {Rvac:0.3f}m, and {d:0.3f}m is the Range R in a linear medium.\")\n",
    "\n",
    "\n",
    "for j in range(len(thetalist)):\n",
    "    Rlist = []\n",
    "    for i in range(len(R)):\n",
    "        Vx = np.cos(thetalist[j])\n",
    "        Vy = np.sin(thetalist[j])\n",
    "        y = ((Vy + Vter) / Vx) * R[i] + np.log(1 - (R[i] / Vx))\n",
    "        Rlist.append(y)\n",
    "    d = R[np.where(np.diff(np.sign(Rlist)))[0][1]]\n",
    "    dlist.append(d)\n",
    "\n",
    "print(f\"For the angles 0.4, 0.5, 0.6, 0.7 and 0.8 radians, the ranges in a linear medium are {dlist[0]:0.3f}, {dlist[1]:0.3f}, {dlist[2]:0.3f}, {dlist[3]:0.3f}, and {dlist[4]:0.3f} meters respectively.\")\n",
    "dlist2 = []\n",
    "for j in range(len(thetalist2)):\n",
    "    Rlist2 = []\n",
    "    for i in range(len(R)):\n",
    "        Vx = np.cos(thetalist2[j])\n",
    "        Vy = np.sin(thetalist2[j])\n",
    "        y = ((Vy + Vter) / Vx) * R[i] + np.log(1 - (R[i] / Vx))\n",
    "        Rlist2.append(y)\n",
    "    d = R[np.where(np.diff(np.sign(Rlist2)))[0][1]]\n",
    "    dlist2.append(d)\n",
    "print(f\"After some trial and error, I found that the maximum range is {dlist2[1]:0.3f} meters which happens at {thetalist2[1]:} radians.\\nCompared to the value in a vacuum for 45 degrees calculated earlier, it is about half as large.\")\n"
   ]
  },
  {
   "cell_type": "code",
   "outputs": [],
   "source": [],
   "metadata": {
    "collapsed": false
   },
   "id": "25f2f2261cbffb59"
  }
 ],
 "metadata": {
  "kernelspec": {
   "display_name": "Python 3",
   "language": "python",
   "name": "python3"
  },
  "language_info": {
   "codemirror_mode": {
    "name": "ipython",
    "version": 2
   },
   "file_extension": ".py",
   "mimetype": "text/x-python",
   "name": "python",
   "nbconvert_exporter": "python",
   "pygments_lexer": "ipython2",
   "version": "2.7.6"
  }
 },
 "nbformat": 4,
 "nbformat_minor": 5
}
